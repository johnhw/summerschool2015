{
 "cells": [
  {
   "cell_type": "markdown",
   "metadata": {},
   "source": [
    "# Section II: Some fundamentals\n"
   ]
  },
  {
   "cell_type": "code",
   "execution_count": null,
   "metadata": {
    "collapsed": false
   },
   "outputs": [],
   "source": [
    "# standard imports\n",
    "import numpy as np\n",
    "import matplotlib.pyplot as plt\n",
    "import seaborn\n",
    "import scipy.special\n",
    "# force plots to appear inline on this page\n",
    "%matplotlib inline"
   ]
  },
  {
   "cell_type": "markdown",
   "metadata": {},
   "source": [
    "## Overfitting and regularisation\n",
    "### Overfitting \n",
    "### Penalisation\n",
    "#### Lasso / ridge regression\n",
    "### Randomised regularisation\n",
    "#### Bootstrap / bagging"
   ]
  },
  {
   "cell_type": "markdown",
   "metadata": {},
   "source": [
    "## Probabilistic approaches\n",
    "#### Random variables\n",
    "#### Distributions\n",
    "#### Advantages of probabilistic modelling\n",
    "#### Disadvantages of probabilistic modelling"
   ]
  },
  {
   "cell_type": "markdown",
   "metadata": {},
   "source": [
    "## Probability theory\n",
    "#### Probability as a calculus of belief\n",
    "#### Axioms of probability\n",
    "#### Bayes' Rule\n",
    "#### Prior, likelihood, posterior\n",
    "#### Integration over the evidence\n",
    "##### Monte Carlo approximations\n",
    "### Example: language modelling\n",
    "#### n-gram character models\n",
    "#### Bigram matrix\n",
    "#### Sampling from the model\n",
    "#### Evaluating likelihood"
   ]
  },
  {
   "cell_type": "markdown",
   "metadata": {},
   "source": [
    "## Information theory\n",
    "### Entropy\n",
    "#### Shannon's law\n",
    "#### Entropy examples\n",
    "#### Mutual information\n",
    "### Example: Fitts' law as an information theoretic model"
   ]
  },
  {
   "cell_type": "markdown",
   "metadata": {},
   "source": [
    "## High-dimensional spaces\n",
    "### What is a high-dimensional space?\n",
    "### Why intuition is wrong\n",
    "#### Example: cube-sphere volume\n",
    "#### Example: Normal distribution in high-dimensions\n",
    "### Dealing with high-D problems\n",
    "#### Pre-training\n",
    "#### Heavier tailed distributions\n"
   ]
  },
  {
   "cell_type": "markdown",
   "metadata": {},
   "source": [
    "The volume of a n-D sphere with radius $1/2$  is $$ V_n(R) = \\frac{\\pi^{n/2}}{\\Gamma({n/2}+1)}\\frac{1}{2}^n$$ (i.e. inscribed in a hypersphere). The volume of a unit cube is $$1^n=1$$"
   ]
  },
  {
   "cell_type": "code",
   "execution_count": null,
   "metadata": {
    "collapsed": true
   },
   "outputs": [],
   "source": [
    "def sphere_volume(n):\n",
    "    return 0.5**n * np.pi**(n/2.0) / scipy.special.gamma(n/2.0+1)"
   ]
  },
  {
   "cell_type": "code",
   "execution_count": null,
   "metadata": {
    "collapsed": false
   },
   "outputs": [],
   "source": [
    "x = np.arange(0,20)\n",
    "plt.plot(x, [sphere_volume(xi) for xi in x])\n",
    "plt.xlabel(\"Dimension\")\n",
    "plt.ylabel(\"Volume\")\n",
    "plt.figure()\n",
    "plt.semilogy(x, [sphere_volume(xi) for xi in x])\n",
    "plt.xlabel(\"Dimension\")\n",
    "plt.ylabel(\"Volume\")"
   ]
  },
  {
   "cell_type": "markdown",
   "metadata": {},
   "source": [
    "We can generate points randomly in a hypersphere. It's hard to visualise the hypersphere, but we can show the radii of points on a 2D circle:"
   ]
  },
  {
   "cell_type": "code",
   "execution_count": null,
   "metadata": {
    "collapsed": true
   },
   "outputs": [],
   "source": [
    "def sphere_points(n, d):\n",
    "    # generate points on the unit circle (uniformly)    \n",
    "    xn = np.random.normal(0,1,(n,2))\n",
    "    r = np.sqrt(np.sum(xn**2, axis=1))    \n",
    "    surface_points = (xn.T/r).T\n",
    "    \n",
    "    # generate points on the unit d-dimensional hypershphere (uniformly)    \n",
    "    xv = np.random.normal(0,1,(n,d))\n",
    "    r_d = np.sqrt(np.sum(xv**2, axis=1))    \n",
    "    d_surface_points = (xv.T/r_d).T\n",
    "    \n",
    "    # generate points on the unit line\n",
    "    xt = np.random.normal(0,1,(n,1))\n",
    "                \n",
    "    # radii of points uniformly distributed in a n-d hypersphere\n",
    "    # can be drawn by sampling using the formula below\n",
    "    # [see: http://math.stackexchange.com/questions/87230/picking-random-points-in-the-volume-of-sphere-with-uniform-probability?rq=1 ]\n",
    "    radius = np.random.uniform(0, 1, n) ** (1.0/d) * 0.5\n",
    "    return (surface_points.T*radius).T, radius, (d_surface_points.T*radius).T"
   ]
  },
  {
   "cell_type": "markdown",
   "metadata": {},
   "source": [
    "We can define a function to plot this. We'll show the 1D distribution of radii, the distribution of radii as if they were on a circle and the true 2D projection of the hypersphere points."
   ]
  },
  {
   "cell_type": "code",
   "execution_count": null,
   "metadata": {
    "collapsed": false
   },
   "outputs": [],
   "source": [
    "def plot_sphere_density(d):\n",
    "    sphere_pts, line_pts, hyp_pts = sphere_points(2000,d)\n",
    "    \n",
    "    # plot the 2D sphere at the corresponding radius\n",
    "    plt.scatter(sphere_pts[:,0], sphere_pts[:,1], alpha=0.5, s=2)    \n",
    "    # plot 1D points at the corresponding radius\n",
    "    plt.scatter(line_pts, np.zeros_like(line_pts), c='g', alpha=0.1, s=2)    \n",
    "    # plot the 2D projection of the hypersphere points\n",
    "    plt.scatter(-line_pts, np.zeros_like(line_pts), c='g', alpha=0.1, s=2)\n",
    "    if d>1:\n",
    "        plt.scatter(hyp_pts[:,0], hyp_pts[:,1], c='r', alpha=0.5, s=2)\n",
    "    plt.axis(\"equal\")"
   ]
  },
  {
   "cell_type": "code",
   "execution_count": null,
   "metadata": {
    "collapsed": false
   },
   "outputs": [],
   "source": [
    "plot_sphere_density(1)"
   ]
  },
  {
   "cell_type": "code",
   "execution_count": null,
   "metadata": {
    "collapsed": false
   },
   "outputs": [],
   "source": [
    "plot_sphere_density(2)"
   ]
  },
  {
   "cell_type": "code",
   "execution_count": null,
   "metadata": {
    "collapsed": false
   },
   "outputs": [],
   "source": [
    "plot_sphere_density(3)"
   ]
  },
  {
   "cell_type": "code",
   "execution_count": null,
   "metadata": {
    "collapsed": false
   },
   "outputs": [],
   "source": [
    "plot_sphere_density(8)"
   ]
  },
  {
   "cell_type": "code",
   "execution_count": null,
   "metadata": {
    "collapsed": false
   },
   "outputs": [],
   "source": [
    "plot_sphere_density(128)"
   ]
  },
  {
   "cell_type": "markdown",
   "metadata": {},
   "source": [
    "#### Conclusion\n",
    "If you look at any 2D slice of a hypersphere, the points will appear to be concentrated at the centre as the dimension increases. But almost all of the volume is actually in a very thin shell at the outside of the sphere. This is quite counter-intuitive."
   ]
  },
  {
   "cell_type": "markdown",
   "metadata": {},
   "source": [
    "## Kernel trick: a useful high-d space\n",
    "### Kernel basics\n",
    "### Linear decisions in kernel space\n",
    "### Kernel functions\n",
    "### Non-real data: bag-of-words\n"
   ]
  },
  {
   "cell_type": "markdown",
   "metadata": {},
   "source": [
    "## Dealing with time-series\n",
    "### Windowing\n",
    "### Delay embedding\n",
    "### Derivative information\n",
    "\n",
    "### Stateful algortihms\n",
    "#### Hidden markov model\n",
    "#### Kalman filter\n",
    "#### Particle filter"
   ]
  }
 ],
 "metadata": {
  "kernelspec": {
   "display_name": "Python 2",
   "language": "python",
   "name": "python2"
  },
  "language_info": {
   "codemirror_mode": {
    "name": "ipython",
    "version": 2
   },
   "file_extension": ".py",
   "mimetype": "text/x-python",
   "name": "python",
   "nbconvert_exporter": "python",
   "pygments_lexer": "ipython2",
   "version": "2.7.9"
  }
 },
 "nbformat": 4,
 "nbformat_minor": 0
}
