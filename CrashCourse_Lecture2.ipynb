{
 "cells": [
  {
   "cell_type": "markdown",
   "metadata": {},
   "source": [
    "# Section II: Some fundamentals\n"
   ]
  },
  {
   "cell_type": "code",
   "execution_count": 609,
   "metadata": {
    "collapsed": false
   },
   "outputs": [],
   "source": [
    "# standard imports\n",
    "import numpy as np\n",
    "import pandas as pd\n",
    "import matplotlib.pyplot as plt\n",
    "import sklearn.preprocessing, sklearn.linear_model, sklearn.datasets\n",
    "import sklearn.svm, sklearn.cross_validation, sklearn.grid_search, sklearn.metrics, sklearn.decomposition\n",
    "import scipy.spatial\n",
    "import seaborn\n",
    "import scipy.special\n",
    "import scipy.stats as stats\n",
    "# force plots to appear inline on this page\n",
    "%matplotlib inline"
   ]
  },
  {
   "cell_type": "markdown",
   "metadata": {},
   "source": [
    "## Overfitting and regularisation\n",
    "### Overfitting \n",
    "We saw examples of overfitting in the previous lecture. Preventing overfitting is one of the major challenges of machine learning. It is easy to build models that can approximate any function; but approximating in a way that generalises to unseen data is much harder.\n",
    "\n",
    "Enforcing structure to minimise overfitting is called *regularisation*. Techniques such as *bagging* or *bootstrap* methods that we saw in the previous lecture are examples of randomised approaches to regularisation.  By forcing learning algorithms to learn from impoverished datasets and then averaging the results, we can prevent the learning from conforming into the irrelvant \"nooks and crannies\" of the functions to be learned.\n",
    "\n",
    "\n",
    "\n"
   ]
  },
  {
   "cell_type": "markdown",
   "metadata": {},
   "source": [
    "### Penalisation\n",
    "An alternative approach is to explicitly penalise functions for getting too complicated. This is called *penalisation* and is widely used in statistical modelling. An explicit *penalty function* is defined which applies a constraint to the optimisation of parameters to force the function being learned to stay \"smooth\".\n",
    "\n",
    "Developing a penalty function is tricky, as it is not always clear how enforcing constraints of the *parameters* of a learning algorithm affects the generalisation properties of the result. However, there are many well-developed techniques for which good penalty function are known.\n",
    "\n",
    "#### Lasso / ridge regression\n",
    "One common approach is to apply penalties when fitting a linear model (i.e. $y=Ax$) that constrain the values of linear fit to be small. The specific *norm* used to measure the size of the coefficients gives rise to various regularisation approaches.\n",
    "\n",
    "An approach which forces the coefficients to be small in the $L_2$ norm (i.e. the Euclidean distance of the coefficient vector to the origin) is called *ridge regression*; using the $L_1$ norm (the sum of coefficient values) is called lasso regression.\n",
    "\n",
    "\n",
    "\n",
    "\n",
    "\n"
   ]
  },
  {
   "cell_type": "code",
   "execution_count": null,
   "metadata": {
    "collapsed": false
   },
   "outputs": [],
   "source": [
    "# FIXME\n",
    "n = 100\n",
    "\n",
    "x = np.random.uniform(-1,1,(n,1))\n",
    "y = 4*x[:,0] \n",
    "y[10] = 200\n",
    "plt.scatter(x,y)\n",
    "\n",
    "# simple univariate regression \n",
    "\n",
    "for n in range(20):\n",
    "    ridge = sklearn.linear_model.Ridge(alpha=100*np.exp(-n), fit_intercept=True)\n",
    "    ridge.fit(x,y)\n",
    "    # predict output\n",
    "    xs = np.linspace(-1,1,100)[:, None]\n",
    "    ys = ridge.predict(xs)\n",
    "    plt.plot(xs,ys)\n",
    "    plt.ylim(-5,5)\n",
    "\n",
    "\n"
   ]
  },
  {
   "cell_type": "markdown",
   "metadata": {},
   "source": [
    "## Probabilistic approaches\n",
    "#### Random variables\n",
    "A *random variable* is a variable that can take on different values; i.e. one that is \"unassigned\". Proability theory allows us to manipulate random variables without having to assign them a specific value.\n",
    "\n",
    "#### Distributions\n",
    "A *probability* distribution defines how likely different states of a random variable are. The probability distribution of a random variable $x$ is written:\n",
    "$$P(x)$$\n",
    "Random variables can be continuous (e.g. the height of a person) or discrete (the value showing on the face of a dice). The distribution of a discrete variable is described with a *probability mass function* (PMF) which gives each outcome a specific value. A continuous variable has a *probability density function* (PDF) which specifies the spread of the probability as a continuous function.\n",
    "\n",
    "A probability distribution must assign probabilities in the range 0 (impossible) to 1 (definite) and the PMF or PDF **must** integrate to exactly 1 as the random variable under consideration must take on *some* value. Note that a **PDF** can have a value >1 if the integral of the function is still = 1. A PMF always has $P(x)<1 \\forall x$\n",
    "\n",
    "\n"
   ]
  },
  {
   "cell_type": "code",
   "execution_count": null,
   "metadata": {
    "collapsed": true
   },
   "outputs": [],
   "source": [
    "# the PMF of the sum of two dice rolls\n",
    "def two_dice():\n",
    "    # form the sum of the cross product of these possibilities\n",
    "    roll_two = [i+j for i in range(6) for j in range(6)]\n",
    "    # now plot the histogram\n",
    "    plt.hist(roll_two, normed=True, bins=range(12))\n",
    "    plt.xlabel(\"Sum of rolls x\")\n",
    "    plt.ylabel(\"P(x)\")\n"
   ]
  },
  {
   "cell_type": "code",
   "execution_count": null,
   "metadata": {
    "collapsed": false
   },
   "outputs": [],
   "source": [
    "two_dice()"
   ]
  },
  {
   "cell_type": "code",
   "execution_count": null,
   "metadata": {
    "collapsed": false
   },
   "outputs": [],
   "source": [
    "# Plot the PDF of the normal distribution\n",
    "def plot_normal():\n",
    "    # plot the normal (Gaussian distibution) along with a set of points drawn from that distribution\n",
    "    x = np.linspace(-4,4,100)\n",
    "    y = stats.norm.pdf(x) # mean 0, std. dev. 1\n",
    "    plt.plot(x,y)\n",
    "    plt.axhline(0, color='k', linewidth=0.2) # axis line\n",
    " \n",
    "    # mark the mean\n",
    "    plt.text(0, 0.51, '$\\mu$')\n",
    "    plt.axvline(0, color='r')\n",
    "    # highlight one std. dev. to the right\n",
    "    plt.axvspan(0,1, facecolor='b', alpha=0.1)\n",
    "    plt.text(1.2, 0.3, '$\\sigma$')\n",
    "    # take 1000 random samples and scatter plot them\n",
    "    samples = stats.norm.rvs(0,1,1000)\n",
    "    plt.scatter(samples, np.full(samples.shape, .2), s=4, c='b', alpha=0.03)\n",
    "    plt.xlabel(\"$x$\")\n",
    "    plt.ylabel(\"$P(x)$\")\n",
    "    "
   ]
  },
  {
   "cell_type": "code",
   "execution_count": null,
   "metadata": {
    "collapsed": false
   },
   "outputs": [],
   "source": [
    "plot_normal()"
   ]
  },
  {
   "cell_type": "markdown",
   "metadata": {},
   "source": [
    "### Joint, marginal, conditional\n",
    "The *joint probability* of two random variables is written $$P(x,y)$$ and gives the probability that $x$ and $y$ take the same value simultaneously. The *marginal probability* is the derivation of $P(x)$ from $P(x,y)$ by integrating (summing) over all the possible choices of $y$:\n",
    "$$P(x) = \\int P(x,y) dy$$\n",
    "\n",
    "Two random variables are *independent* if the they do not have any dependence on each other. If this is the case then the joint distribution is just the product of the individual distributions:\n",
    "$p(x,y) = p(x)p(y)$\n",
    "\n",
    "The *conditional probability* of $x$ **given** $y$ is written as $$p(x|y)$$ and can be computed as $$p(x|y) = \\frac{p(x,y)}{p(x)}$. This tells us how likely $x$ is to occur if we already know  (or fix) the value of $y$.\n",
    "\n",
    "The *expected value* of a random variable with respect to a function is the function weighted by the probability at each point:\n",
    "$$E[f(x)] = \\int p(x)f(x) dx$$\n",
    "or\n",
    "$$E[f(x)] = \\sum_{x} p(x)f(x)$$ in the discrete case. \n",
    "\n",
    "The *variance* of a random variable is a measure of spread, and can be computed from a nested expectation:\n",
    "$$\\textrm{Var}(f(x)) = E[(f(x) - E[(f(x)])^2]$$\n",
    "\n",
    "These concepts are easier to see visually.\n"
   ]
  },
  {
   "cell_type": "code",
   "execution_count": null,
   "metadata": {
    "collapsed": false
   },
   "outputs": [],
   "source": [
    "def joint_marginal(cov):\n",
    "    # create an independent 2D normal distribution\n",
    "    x,y = np.meshgrid(np.linspace(-3,3,50), np.linspace(-3,3,50))\n",
    "    pos = np.empty(x.shape + (2,))\n",
    "    pos[:,:,0] = x\n",
    "    pos[:,:,1] = y\n",
    "    joint_pdf = stats.multivariate_normal.pdf(pos, [0,0], cov)\n",
    "    fig = plt.figure()\n",
    "    # plot the joint\n",
    "    ax = fig.add_subplot(2,2,1)\n",
    "    ax.axis('equal')\n",
    "    ax.pcolor(x,y,joint_pdf, cmap='gist_heat')\n",
    "    # plot the marginals\n",
    "    ax = fig.add_subplot(2,2,3)\n",
    "    ax.axis('equal')\n",
    "    \n",
    "    ax.plot(x[0,:], np.sum(joint_pdf, axis=0))\n",
    "    ax = fig.add_subplot(2,2,2)\n",
    "    ax.axis('equal')\n",
    "    \n",
    "    ax.plot(np.sum(joint_pdf, axis=1), x[0,:])\n",
    "    # plot p(x|y)\n",
    "    ax = fig.add_subplot(2,2,4)\n",
    "    ax.axis('equal')\n",
    "    \n",
    "    marginal = np.tile(np.sum(joint_pdf, axis=0), (joint_pdf.shape[0],1))\n",
    "    ax.pcolor(x,y,joint_pdf/marginal, cmap='gist_heat')\n",
    "    \n",
    "    \n",
    "\n"
   ]
  },
  {
   "cell_type": "code",
   "execution_count": null,
   "metadata": {
    "collapsed": false
   },
   "outputs": [],
   "source": [
    "# x and y indepependent\n",
    "joint_marginal([[1,0], [0,1]])\n"
   ]
  },
  {
   "cell_type": "code",
   "execution_count": null,
   "metadata": {
    "collapsed": false
   },
   "outputs": [],
   "source": [
    "# x and y covary\n",
    "joint_marginal([[0.5,0.5], [0.5,1]])"
   ]
  },
  {
   "cell_type": "markdown",
   "metadata": {},
   "source": [
    "We can draw samples from a distribution, which gives us a set of definite (non-random) variables which are distributed according to the PDF or PMF. The mean $\\mu$ of a set of samples from a distribution is an estimate of the expectation, which improves as the number of samples $n$ increases. If we apply a function $f(x)$ to the samples, the arithmetic mean is an estimate of $E[f(x)]$.\n",
    "\n",
    "\n"
   ]
  },
  {
   "cell_type": "markdown",
   "metadata": {},
   "source": [
    "#### Log probabilities\n",
    "\n",
    "The probability of multiple **independent** random variables taking on a set of values can be computed from the product:\n",
    "$$p(x,y,z) = p(x)p(y)p(z)$$\n",
    "and in general\n",
    "$$p(x_1, \\dots, x_n) = \\prod_{i=1}^{n} x_i$$\n",
    "\n",
    "We often have to have to compute such products, but to multiply lots of values $<1$ leads to numerical issues. Instead, we often prefer to manipluate *log probabilities*, which can be summed instead of multiplied:\n",
    "$$\\log p(x_1, \\dots, x_n) = \\sum_{i=1}^{n} \\log p(x_i)$$\n",
    "\n",
    "This is simply a numerical conveience."
   ]
  },
  {
   "cell_type": "markdown",
   "metadata": {},
   "source": [
    "## Normal distribution\n",
    "The normal distribution (above) is very widely used as a model of random variables. It is fully specified by its mean $\\mu$ and the covariance matrix $\\Sigma$. If you imagine the normal distribution to be a ball shaped mass in space, the mean *translates* the mass, and covariance applies a transformation matrix (scale, rotate and shear) to the ball. [The exact transformation matrix which does this transform is $\\Sigma^{-1/2}$].\n",
    "\n",
    "#### Normal modelling\n",
    "It seems that this might be a very limiting choice but there are two good reasons for this:\n",
    "1. Normal variables have very nice mathematical properties and are easy to work with analyitically (i.e. without relying on numerical computation).\n",
    "2. The *central limit theory* tells us that any sum of random variables (however they are distributed) will tend to a *Levy stable distribution* as the number of variables being summed increases. For most random variables encountered, this means the normal distribution (one specific Levy stable distribution).\n",
    "\n",
    "#### Tails\n",
    "Obviously, normal variables cannot model multi-modal distributions well (where the distribution has multiple \"spikes\"), although mixtures of normal variables can be used to model these. The main issue with normal approximations is that the *tails* (the low probability areas at the extremes of the function) are very \"light\" -- the normal distribution gives very little probability to rare events. Other distributions, such as the *t-distribution* can model phenomena where there are significant rare events. \n",
    "\n"
   ]
  },
  {
   "cell_type": "code",
   "execution_count": null,
   "metadata": {
    "collapsed": false
   },
   "outputs": [],
   "source": [
    "def clt():\n",
    "    # demonstrate the central limit theorem\n",
    "    for i in range(8):\n",
    "        x = np.zeros((800,))\n",
    "        # add i copies of samples drawn from uniform (flat) distribution together\n",
    "        for j in range(i+1):\n",
    "            x += np.random.uniform(-0.5,0.5, x.shape)\n",
    "        plt.figure()\n",
    "        plt.hist(x, bins=np.linspace(-4,4,40), normed=True)\n",
    "        plt.xlabel(\"$x$\")\n",
    "        plt.ylabel(\"$P(x)$\")"
   ]
  },
  {
   "cell_type": "code",
   "execution_count": null,
   "metadata": {
    "collapsed": false
   },
   "outputs": [],
   "source": [
    "clt()"
   ]
  },
  {
   "cell_type": "code",
   "execution_count": null,
   "metadata": {
    "collapsed": false
   },
   "outputs": [],
   "source": [
    "# Compare normal and t-distributed values\n",
    "def plot_normal_and_t():\n",
    "    x = np.linspace(-8, 8,100)\n",
    "    plt.figure()\n",
    "    plt.plot(x, stats.norm.pdf(x))\n",
    "    plt.plot(x, stats.t.pdf(x,1)) # t-distribution with degrees-of-freedom = 1\n",
    "    # fill the difference in the tails\n",
    "    plt.fill_between(x, stats.t.pdf(x,1), stats.norm.pdf(x), where=stats.t.pdf(x,1)>stats.norm.pdf(x), alpha=0.1)\n",
    "    plt.xlabel(\"$x$\")\n",
    "    plt.ylabel(\"$p(x)$\")\n",
    "\n",
    "    plt.figure()\n",
    "    plt.plot(x, stats.norm.logpdf(x))\n",
    "    plt.plot(x, stats.t.logpdf(x,1)) # t-distribution with degrees-of-freedom = 1\n",
    "    plt.xlabel(\"$x$\")\n",
    "    plt.ylabel(\"$\\log p(x)$\")\n",
    "    \n",
    "plot_normal_and_t()"
   ]
  },
  {
   "cell_type": "markdown",
   "metadata": {},
   "source": [
    "## Population and samples\n",
    "Inferential statistics is concerned with estimating the properties of an unobserved \"global\" *population* of values from a limited set of observed *samples*.\n",
    "\n",
    "This assumes that there is some underlying distribution from which samples are being drawn. If we assume a particular *form* of the distribution (e.g. assume it is normal), we can form *estimators* of *parameters* (such as the mean and variance) of this population distribution. \n",
    "\n",
    "In other words, we might want to know the \"true\" mean height of adult men -- the distribution which is \"generating\" heights. But we can only observe a limited sample of heights by measuring people. \n",
    "\n",
    "It turns out that if the population distribution is normal, the arithmetic mean of the observed samples $\\hat{\\mu}$ is an unbiased estimator of the true population mean $\\mu$. Specific bounds can be put on this estimate; the standard error gives a measure of how close we expect that the arithmetic mean of samples is to the population mean. \n",
    "\n"
   ]
  },
  {
   "cell_type": "code",
   "execution_count": null,
   "metadata": {
    "collapsed": true
   },
   "outputs": [],
   "source": [
    "# population and sample example\n",
    "def population_and_sample(mean, std):\n",
    "    # we plot the estimated mean as the number of samples increases\n",
    "    # along with the standard error on that estimate\n",
    "    x = []\n",
    "    n = 200\n",
    "    sample_means = []\n",
    "    sample_std_errs = []\n",
    "    for i in range(n):\n",
    "        x.append(np.random.normal(mean, std))\n",
    "        sample_means.append(np.mean(x))\n",
    "        sample_std_errs.append(stats.sem(x))\n",
    "    \n",
    "    # list to array\n",
    "    sample_means = np.array(sample_means)\n",
    "    sample_std_errs = np.array(sample_std_errs)\n",
    "    \n",
    "    \n",
    "    plt.plot(sample_means)\n",
    "    # sample error of one sample is undefined; replace NaN with 0\n",
    "    sample_std_errs[0] = 0\n",
    "    \n",
    "    # ~1.96 * std. err. is the 95% confidence interval for the mean estimate\n",
    "    plt.fill_between(np.arange(n), sample_means - 1.96 * sample_std_errs, sample_means + 1.96 * sample_std_errs, alpha=0.1)\n",
    "    # line at population mean\n",
    "    plt.axhline(mean)\n",
    "    plt.xlim(-1, n)\n",
    "    plt.xlabel(\"N samples\")\n",
    "    plt.ylabel(\"Value\")\n",
    "    plt.legend(['Sample mean', 'Population mean'])"
   ]
  },
  {
   "cell_type": "code",
   "execution_count": null,
   "metadata": {
    "collapsed": false
   },
   "outputs": [],
   "source": [
    "population_and_sample(0, 1)"
   ]
  },
  {
   "cell_type": "markdown",
   "metadata": {},
   "source": [
    "The standard error for the mean is:\n",
    "    $$\\text{SE} = \\frac{s}{\\sqrt{n}},$$\n",
    "where $s$ is the sample standard deviation.\n",
    "This tells us this estimate gets better relatively slowly as $n$ increases. The *confidence interval* of an estimate tells us how likely the *parameter* (here, the mean) is to have been within a range *if we sampled from the distribution many times*. \n",
    "\n",
    "For a normal distribution, we'd expect the sample mean to be no more than ~1.96 $\\text{SE}$ away from the population mean 95% of the time. \n",
    "\n",
    "**This does not mean that we'd expect 95% of the samples to be within 1.96$\\text{SE}$ of the sample or population mean** -- that range is called is the **prediction interval**."
   ]
  },
  {
   "cell_type": "markdown",
   "metadata": {},
   "source": [
    "## Probability theory and Bayesian inference\n",
    "\n",
    "#### Probability as a calculus of belief\n",
    "*Bayesians* treat probability as a **calculus of belief**; in this model of thought, probabilities are measures of degrees of belief. $P(X)=0$ means a belief that $X$ cannot be true and $P(X)=1$ is a belief that $X$ is certainly 1. \n",
    "\n",
    "There is an alternative school of thought that considers probabilities to *only* be the long-term behaviour of repeated events (e.g. the probability of a coin coming up heads in 0.5 because over the long term this will be the average proportion of times this occurs). A *frequentist* does not accept phrases like \"what is the probability it is sunny just now?\" as there is no long term behaviour for this.\n",
    "\n",
    "#### Probability as the optimal way of representing uncertainty\n",
    "Other representations of uncertainty are strictly inferior to probabilistic methods *in the sense that* a person, agent, computer or whatever is making decisions using probabilistic models will be at least as good as any other representation of uncertainty in a gambling setting. In other words, probabilistic decisions have the best possible \"return\" out of all decision systems when there is uncertainty. \n",
    "\n",
    "*Bayesians* allow for belief in states to be combined and manipulated via the rules of probability. The key process in Bayesian logic is *updating of beliefs*. Given some *prior* belief (it's Glasgow, it's not likely to be sunny) and some new evidence (there seems to be a bright reflection inside) we can update our belief to calculate the *posterior* -- our new probability that it is sunny outside.\n",
    "\n",
    "Bayesian inference requires that we accept priors over events, i.e. that we must explicitly quantify our assumptions with probability distributions. \n",
    "\n",
    "#### Axioms of probability\n",
    " \n",
    "There are only three basic axioms of probability:\n",
    "1. $0 \\leq P(E) < 1$ for an event $E$ -- probabilities are 0, or positive and less than 1.\n",
    "2. $P(S)=1$ for the complete set of possible events $S$ -- something always happens, or $\\sum_E P(E) = 1 $\n",
    "3. $P(A \\text{or} B) = P(A) + P(B)$ if $A$ and $B$ are mutually exclusive (i.e. cannot both happen in the same system $S$)\n",
    "\n",
    "The remainder of the rules of probability can be derived from these three statements.\n",
    "\n",
    "#### Prior, likelihood, posterior\n",
    "We often want to know the probability of a model (and its parameters) given some data $p(M, \\theta|D)$. But we can only compute the likelihood of the data being generated by the model. Bayes' rule gives a consistent model for inverting the probability distribution:\n",
    "$$ p(A|B) = \\frac{p(B|A) P(A)}{P(B)} $$\n",
    "\n",
    "$P(A|B)$ is called the *posterior*, $P(B|A)$ is called the likelihood, $P(A)$ is the *prior* and $P(B)$ is the *evidence*. Bayes' rule gives a consistent rule to take some prior belief and combine it with observed data to estimate a new distribution which combines them.\n",
    "\n",
    "\n",
    "\n",
    "\n",
    "#### Integration over the evidence\n",
    "We can say that the posterior probability is *proportional* to the product of the prior and the likelihood. But to evaluate its value, we need to compute $P(B)$, the evidence. This is tricky, but because probabilities must add up to 1, we can write $P(B)$ as:\n",
    "$$ P(B)  = \\sum_{i} P(B|A_i) P(A_i) $$ \n",
    "for a set of discrete possibilities $A_i$ or\n",
    "$$ P(B) = \\int_{A} P(B|A) P(A) dA $$ for a continuous distribution over $A$. \n",
    "\n",
    "In general this is difficult to compute. For binary simple cases where there are only two possible outcomes ($A$ can only be true or false), Bayes' rule can be written as:\n",
    "\n",
    "$$P(A|B) = \\frac{P(B|A)P(A)}{P(B|A)P(A) + P(B|\\bar A) P(\\bar A)}, $$ where $\\bar A$ means \"when A is false\". In words:\n",
    "\n",
    "    The probability that it is sunny given I can see a bright reflection is equal to:\n",
    "        The probability that I would see a bright reflection if it *were* sunny times the probability that it might be sunny \n",
    "        over\n",
    "        The probability that I would see a bright reflection if it *were* sunny time the probability that it might be sunny plus the probability that I would see a bright reflection if it were *not* sunny times the probability it might not be sunny.\n",
    "        \n",
    "\n",
    "Using a model $H$ and some model parameters $\\theta$ and some observed data $D$ this becomes:\n",
    "$$ p(H, \\theta|D) = \\frac{p(D|H, \\theta)p(H, \\theta)}{p(D)} $$\n",
    "$$= p(H, \\theta|D) = \\frac{p(D|H, \\theta)p(H, \\theta)}{\\int_{\\theta}p(D|H,\\theta)p(H,\\theta)} $$\n",
    "\n"
   ]
  },
  {
   "cell_type": "code",
   "execution_count": null,
   "metadata": {
    "collapsed": true
   },
   "outputs": [],
   "source": [
    "#### Priors as ways of regularising\n",
    "\n",
    "#### Bayesian inference example"
   ]
  },
  {
   "cell_type": "markdown",
   "metadata": {},
   "source": [
    "## Information theory\n",
    "### Entropy\n",
    "A key property of a probability distribution is the *entropy*. Intuitively, this is a measure of the \"suprise\" an observer would have when observing draws from the distribution. A flat, uniform distribution is very \"surprising\" because the values are very hard to predict; a narrow, peaked distribution is unsurprising because the values are always very similar. \n",
    "\n",
    "This is a precise quantification -- it gives the *information* in a distribution. The units of information are normally bits; where 1 bit of information tells you the answer to exactly one yes or no question. The entropy tells you exactly how many of bits are needed (at minimum) to communicate a value from a distribution to an observer *who knows the distribution already*. \n",
    "\n",
    "The entropy of a (discrete) distribution can be computed as:\n",
    "$$H(x) = \\sum_{x} -p(x) \\log_2(x)$$\n",
    "\n",
    "#### Shannon's law\n",
    "### Example: Fitts' law as an information theoretic model"
   ]
  },
  {
   "cell_type": "markdown",
   "metadata": {},
   "source": [
    "Consider for example a *Bernoulli process*; i.e. a discrete random variable that can take on two states, like a coin toss. If we call our two possible states 0 and 1, we can characterise this with a single parameter $q$, where $p(x=0)=q$ and $p(x=1)=(1-q)$ (as $p(x=0)+p(x=1)$ *must* equal 1 -- the coin must land on one side or the other).\n",
    "\n",
    "If this process is very biased and 0s are much more likely than 1s ($q<<0.5$), an observer will be unsuprised most of the time because predicting 0 will be a good bet. If the process is unbiased ($q=0.5$), an observer will have no way to predict if 0 or 1 is more likely. We can write the entropy of this distribution:\n",
    "$$H(x) = p(x=0) \\log_2 p(x=0) + p(x=1) \\log_2 p(x=1)$$\n",
    "$$ = -q \\log_2 q - (1-q) \\log_2 p(1-q)$$\n",
    "\n",
    "\n",
    "\n",
    "\n",
    "\n",
    "\n"
   ]
  },
  {
   "cell_type": "code",
   "execution_count": null,
   "metadata": {
    "collapsed": false
   },
   "outputs": [],
   "source": [
    "def binary_entropy(q):\n",
    "    return -q * np.log(q)/np.log(2) - (1-q) * np.log(1-q)/np.log(2)\n",
    "\n",
    "def plot_binary_entropy():\n",
    "    x = np.linspace(0,1,100)\n",
    "    plt.plot(x, binary_entropy(x))\n",
    "    plt.xlabel('$q$')\n",
    "    plt.ylabel('$H(X)$')\n",
    "    \n",
    "plot_binary_entropy()"
   ]
  },
  {
   "cell_type": "markdown",
   "metadata": {},
   "source": [
    "This corresponds with our intuition -- an unbiased coin toss is the most suprising distribution."
   ]
  },
  {
   "cell_type": "markdown",
   "metadata": {},
   "source": [
    "#### Joint entropy and mutual information\n",
    "The *joint entropy* of two random variables $x$ and $y$ is $H(x,y)$ and is given by:\n",
    "$$H(x,y) = \\sum_{x} \\sum_{y} p(x,y)\\log_2[p(x,y)]$$\n",
    "This is always greater than or equal to the entropy of $x$ or $y$; this makes sense intuitively -- two random occurences together can't be more predictable than either one on their own.\n",
    "\n",
    "We can compute exactly how *much* information one distribution gives about another via the *mutual information* or MI $I(x;y)$. There are several ways of formulating the mutual information, but a simple one is:\n",
    "$$I(x;y) = H(x) + H(y) - H(x,y)$$\n",
    "i.e. the sum of the entropies of the individual distributions minus the shared joint entropy. If $x$ and $y$ are independent then $I(x;y)=0$.\n",
    "\n",
    "The MI is a very useful tool to determine empirically whether observations are related to each other."
   ]
  },
  {
   "cell_type": "code",
   "execution_count": null,
   "metadata": {
    "collapsed": true
   },
   "outputs": [],
   "source": [
    "# Mutual information example"
   ]
  },
  {
   "cell_type": "markdown",
   "metadata": {},
   "source": [
    "## Bigram model\n",
    "We can build a very simple probabilistic language model using *n-grams*, where we predict the next occurence of a symbol given some previous sequence of $n$ symbols. \n",
    "\n",
    "A very basic model is a character-level bigram model, where we model the probability of a character $c_n$ given a previously seen character $c_{n-1}$, $p(c_n|c_{n-1})$. \n",
    "\n",
    "The probability distribution can be inferred from data simply by counting the occurence of each pair $(c_{n-1}, c_{n})$ and storing the result in a matrix which has dimensions $d \\times d$ where $d$ is the number of distinct characters. If we then normalise by dividing each row by the total count of that character, we approximate the probability distribution of the language. \n",
    "\n"
   ]
  },
  {
   "cell_type": "code",
   "execution_count": null,
   "metadata": {
    "collapsed": true
   },
   "outputs": [],
   "source": [
    "def numerify(string):\n",
    "    # remove all but letters and space (note that this is not a very efficient way to do this process)\n",
    "    # and then convert to 0=space, 1-27 = a-z\n",
    "    filtered_string = [max(1+ord(c.lower()) - ord('a'), 0) for c in string if c.isalpha() or c.isspace()]\n",
    "    return filtered_string\n",
    "\n",
    "def learn_bigram(string):\n",
    "    # return a matrix with the bigram counts from string, including only letters and whitespace\n",
    "    coded = numerify(string)\n",
    "    joint = np.zeros((27,27))\n",
    "    # iterate over sequential pairs\n",
    "    for prev, this in zip(coded[:-1], coded[1:]):\n",
    "        joint[prev, this] += 1\n",
    "    # note that we add on an epsilon to avoid dividing by zero!\n",
    "    bigram = joint.T / (np.sum(joint, axis=0)+1e-6)\n",
    "    return bigram.T, joint.T\n",
    "        \n",
    "    "
   ]
  },
  {
   "cell_type": "code",
   "execution_count": null,
   "metadata": {
    "collapsed": false
   },
   "outputs": [],
   "source": [
    "with open(\"macbeth.txt\") as f:\n",
    "    macbeth_bigram, macbeth_joint = learn_bigram(f.read())\n",
    "\n",
    "with open(\"metamorphosis.txt\") as f:\n",
    "    metamorphosis_bigram, metamorphosis_joint = learn_bigram(f.read())\n",
    "    \n"
   ]
  },
  {
   "cell_type": "code",
   "execution_count": null,
   "metadata": {
    "collapsed": false
   },
   "outputs": [],
   "source": [
    "# The joint distribution\n",
    "plt.imshow(macbeth_joint, interpolation='nearest')\n",
    "plt.xticks(range(27), ' abcdefghijklmnopqrstuvwxyz')\n",
    "plt.yticks(range(27), ' abcdefghijklmnopqrstuvwxyz')\n",
    "plt.grid('off')"
   ]
  },
  {
   "cell_type": "code",
   "execution_count": null,
   "metadata": {
    "collapsed": false
   },
   "outputs": [],
   "source": [
    "# The conditional distributions\n",
    "plt.imshow(macbeth_bigram, interpolation='nearest')\n",
    "plt.xticks(range(27), ' abcdefghijklmnopqrstuvwxyz')\n",
    "plt.yticks(range(27), ' abcdefghijklmnopqrstuvwxyz')\n",
    "plt.grid('off')\n",
    "\n",
    "plt.figure()\n",
    "plt.imshow(metamorphosis_bigram, interpolation='nearest')\n",
    "plt.xticks(range(27), ' abcdefghijklmnopqrstuvwxyz')\n",
    "plt.yticks(range(27), ' abcdefghijklmnopqrstuvwxyz')\n",
    "plt.grid('off')"
   ]
  },
  {
   "cell_type": "markdown",
   "metadata": {},
   "source": [
    "We can clearly see common features of English, such as the \"qu\" pair being dominant in the \"q\" row. We can see the structure more clearly if we look at the log probabilties:"
   ]
  },
  {
   "cell_type": "code",
   "execution_count": null,
   "metadata": {
    "collapsed": false
   },
   "outputs": [],
   "source": [
    "plt.imshow(np.log(macbeth_bigram+1e-8), cmap='gist_heat', interpolation='nearest')\n",
    "plt.xticks(range(27), ' abcdefghijklmnopqrstuvwxyz')\n",
    "plt.yticks(range(27), ' abcdefghijklmnopqrstuvwxyz')\n",
    "plt.grid('off')\n",
    "plt.figure()\n",
    "plt.imshow(np.log(metamorphosis_bigram+1e-8), cmap='gist_heat', interpolation='nearest')\n",
    "plt.xticks(range(27), ' abcdefghijklmnopqrstuvwxyz')\n",
    "plt.yticks(range(27), ' abcdefghijklmnopqrstuvwxyz')\n",
    "plt.grid('off')"
   ]
  },
  {
   "cell_type": "markdown",
   "metadata": {},
   "source": [
    "In practice, this naive counting approach has serious problems as $n$ increases, both because storage requirements increase (an n-gram model stored like this needs $d^n$ entries) and because of the **zero-count** problem. As we increase $n$ there will be many sequences which never occur in the training data but have non-zero probability. Reducing the storage requirements requires *pruning* of the language model (removing very rare occurences which make up the long tail of the model); fixing the *zero-count* problem needs *smoothing*. There are a variety of algorithms used to *smooth* the distributions obtained via counting. \n",
    "\n",
    "The **zero count** problem is very visible even in this simple bigram model with relatively large source texts (10s of thousands of characters), and can be seen as the black areas in the log probability plot. For example, the Macbeth model has $p(c_{n}=j|c_{n-1}=a)$ (the probability that $j$ follows $a$) as 0; but \"aj\" does not have zero probability of occuring in English text. \n"
   ]
  },
  {
   "cell_type": "markdown",
   "metadata": {},
   "source": [
    "## Sampling and computing likelihood\n",
    "\n",
    "We can do interesting things with our simple probability model. For example, we can draw random *samples* from it. To draw samples, we use a **Markov chain**; a random walk. We fix some random initial start point and then work out what the distribution over characters is; draw a sample according to that distribution; append it to the context; and continue. \n",
    "\n",
    "This is a random process that satisfies the **Markov property**: each new state depends only on the previous state (or on a fixed length set of previous states -- you can just extend what you mean by a state to include multiple previous steps).\n",
    "\n"
   ]
  },
  {
   "cell_type": "code",
   "execution_count": null,
   "metadata": {
    "collapsed": true
   },
   "outputs": [],
   "source": [
    "def sample_weighted(w):\n",
    "    # given n probabilities, select an index according to those probabilities\n",
    "    # we do this by generating a random number in [0,1], then summing up the probabilities\n",
    "    # until we exceed this number. This is an unbiased way of sampling from the PMF\n",
    "    r = np.random.uniform(0,1)\n",
    "    cdf = 0\n",
    "    i = 0\n",
    "    while r>cdf:\n",
    "        cdf += w[i]\n",
    "        i += 1\n",
    "    return i-1\n",
    "\n",
    "def sample_chain(bigram, steps):\n",
    "    # choose initial value\n",
    "    v = sample_weighted(np.mean(bigram, axis=0))\n",
    "    out = []\n",
    "    for i in range(steps):\n",
    "        out.append(\" abcdefghijklmnopqrstuvwxyz\"[v])\n",
    "        # now select the PMF p(x|v)\n",
    "        row = bigram[v,:]\n",
    "        # and sample from it, updating v\n",
    "        v = sample_weighted(row)\n",
    "    # concatenate list into a single string\n",
    "    return \"\".join(out)\n",
    "    \n",
    "    "
   ]
  },
  {
   "cell_type": "code",
   "execution_count": null,
   "metadata": {
    "collapsed": false
   },
   "outputs": [],
   "source": [
    "print sample_chain(macbeth_bigram, 100)\n",
    "print sample_chain(metamorphosis_bigram, 100)\n",
    "\n",
    "# this is a uniform distribution over letters (i.e. p(c_n = x| c_{n-1} = y) is equal for all x and y)\n",
    "print sample_chain(np.ones((27,27))/27.0, 100)\n"
   ]
  },
  {
   "cell_type": "markdown",
   "metadata": {},
   "source": [
    "These aren't much like English, but they are very different from a uniform random selection of letters (the \"monkey on the typewriter model\") and the two models are also different from each other."
   ]
  },
  {
   "cell_type": "markdown",
   "metadata": {},
   "source": [
    "We can also take a string and compute how likely it is to have been the output of this Markov chain. We can compute the probability:\n",
    "$$ p(\\text{text}|\\text{model}) = p(c2|c1) p(c3|c2) \\dots = \\prod_{i=1}^{n} p(c_{i+1}|c_i, \\text{model})$$ \n",
    "but this will be very small -- instead, we can compute the log probability:\n",
    "$$ \\log p(\\text{text}|\\text{model}) = \\sum_{i=1}^{n} \\log p(c_{i+1}|c_i, \\text{model})$$.\n"
   ]
  },
  {
   "cell_type": "code",
   "execution_count": null,
   "metadata": {
    "collapsed": true
   },
   "outputs": [],
   "source": [
    "def log_likelihood_bigram(string, bigram):\n",
    "    symbols = numerify(string)\n",
    "    llik = 0\n",
    "    # we sum the log probabilities to avoid numerical underflow\n",
    "    for prev, this in zip(symbols[:-1], symbols[1:]):\n",
    "        llik += np.log(bigram[prev, this]+1e-8) \n",
    "    return llik"
   ]
  },
  {
   "cell_type": "code",
   "execution_count": null,
   "metadata": {
    "collapsed": false
   },
   "outputs": [],
   "source": [
    "# thane appears in Macbeth, but not in Metamorphosis\n",
    "print log_likelihood_bigram(\"thane\", macbeth_bigram)\n",
    "print log_likelihood_bigram(\"thane\", metamorphosis_bigram)\n",
    "\n",
    "\n",
    "    \n",
    "    "
   ]
  },
  {
   "cell_type": "code",
   "execution_count": null,
   "metadata": {
    "collapsed": false
   },
   "outputs": [],
   "source": [
    "print \"Romeo and Juliet\"\n",
    "with open(\"romeo_juliet.txt\") as f:\n",
    "    romeo_juliet = f.read()\n",
    "    mb_llik = log_likelihood_bigram(romeo_juliet, macbeth_bigram)\n",
    "    mm_llik = log_likelihood_bigram(romeo_juliet, metamorphosis_bigram)\n",
    "    print \"    \", \"Macbeth\", mb_llik, \"Metamorphosis\",  mm_llik, \"Difference\",mm_llik - mb_llik\n",
    "    \n",
    "print \"The Trial\"\n",
    "with open(\"the_trial.txt\") as f:\n",
    "    the_trial = f.read()\n",
    "    mb_llik = log_likelihood_bigram(the_trial, macbeth_bigram)\n",
    "    mm_llik = log_likelihood_bigram(the_trial, metamorphosis_bigram)\n",
    "    print \"    \", \"Macbeth\", mb_llik, \"Metamorphosis\", mm_llik, \"Difference\", mm_llik - mb_llik"
   ]
  },
  {
   "cell_type": "markdown",
   "metadata": {},
   "source": [
    "In other words, Romeo and Juliet was more likely to have been generated with Macbeth model than with the Metamorphosis model; and vice versa for The Trial (as we might expect)."
   ]
  },
  {
   "cell_type": "markdown",
   "metadata": {},
   "source": [
    "We can also look at the *entropy* of the distribution for each character"
   ]
  },
  {
   "cell_type": "code",
   "execution_count": null,
   "metadata": {
    "collapsed": false
   },
   "outputs": [],
   "source": [
    "def plot_entropy_bigram(bigram):\n",
    "    entropy = np.zeros((27,))\n",
    "    for i in range(27):\n",
    "        entropy[i] = -np.sum(bigram[i,:] * np.log(bigram[i,:]+1e-6)/ np.log(2))\n",
    "    plt.bar(np.arange(27), entropy)\n",
    "    plt.xticks(np.arange(27)+0.5, '_abcdefghijklmnopqrstuvwxyz')\n",
    "    plt.xlabel(\"Character\")\n",
    "    plt.ylabel(\"H(x)\")\n",
    "                             \n",
    "plot_entropy_bigram(metamorphosis_bigram)"
   ]
  },
  {
   "cell_type": "markdown",
   "metadata": {},
   "source": [
    "This is what we'd expect: \"q\" has very low entropy -- it is invarialby followed by \"u\", while \"space\" has very high entropy -- \n",
    "it is hard to predict what the first letter of a word will be. We get about 4.1 bits of entropy for space; which is equivalent to choosing uniformly among about 19 characters. So there is some predictability (not many words start with \"x\") but not much less than uniformly random.\n",
    "\n",
    "We can also compute the mutual information $I(x;y)$, i.e. how much knowing the previous character tells us about the next.\n",
    "This is:\n",
    "$$I(x;y) = H(x) + H(y) - H(x,y)$$"
   ]
  },
  {
   "cell_type": "code",
   "execution_count": null,
   "metadata": {
    "collapsed": false
   },
   "outputs": [],
   "source": [
    "def mi_bigram(joint):\n",
    "    eps = 1e-6\n",
    "    # normalise the counts to a probability distribution\n",
    "    joint = joint / np.sum(joint)\n",
    "    \n",
    "    # compute the marginal probability distribution\n",
    "    px = np.sum(joint, axis=0)\n",
    "    py = np.sum(joint, axis=1)\n",
    "    # note that these will be effectively equal, as the independent probability of characters\n",
    "    # does not depend on their order (the slight difference is due to the one extra character at the end\n",
    "    # adjustin\n",
    "    px = px / np.sum(px)\n",
    "    py = py / np.sum(py)\n",
    "    \n",
    "    hxy = -np.sum(joint * np.log(joint+eps)/np.log(2))\n",
    "    hx = -np.sum(px * np.log(px+eps)/np.log(2))\n",
    "    hy = -np.sum(py * np.log(py+eps)/np.log(2))\n",
    "    return hx+hy-hxy\n",
    "                             \n",
    "print mi_bigram(macbeth_joint), mi_bigram(metamorphosis_joint)"
   ]
  },
  {
   "cell_type": "markdown",
   "metadata": {},
   "source": [
    "This suggests that we get about 0.65 bits of information about the successive character from the previous one for the Macbeth dataset, and about 0.79 bits for the Metamorphosis dataset; Kafka is marginally more predictable than Shakespeare."
   ]
  },
  {
   "cell_type": "markdown",
   "metadata": {},
   "source": [
    "## High-dimensional spaces\n",
    "Many problems in machine learning involve using many measurements of a simple; for example, an image is an array of luminance measurements. The dimension $d$ of the features has a massive impact on the performance and behaviour of learning algorithms, and many of the problems in machine learning are concerned with dealing with high-dimensional spaces.\n",
    "\n",
    "High-dimensional can mean any $d>3$; a 20-dimensional feature set might be called medium-dimensional; a 1000-dimensional might be called high-dimensional; a 1M-dimensional dataset might be called extremely high-dimensional.\n",
    "\n",
    "The geometric properties of high-d spaces are very counter-intuitive. The volume of space increases exponentially with $d$. There is a lot of empty space in high-dimensions, and where data is sparse it can be difficult to generalise in high-dimensional spaces. Some research areas, such as genetic analysis often have $n<<d$; i.e. many fewer samples than measurement features. \n",
    "\n",
    "We can see some of the properties of high-d spaces visually.\n",
    "\n"
   ]
  },
  {
   "cell_type": "markdown",
   "metadata": {},
   "source": [
    "The volume of a n-D sphere with radius $1/2$  is $$ V_n(R) = \\frac{\\pi^{n/2}}{\\Gamma({n/2}+1)}\\frac{1}{2}^n$$ (i.e. inscribed in a hypersphere). The volume of a unit cube is $$1^n=1$$"
   ]
  },
  {
   "cell_type": "code",
   "execution_count": null,
   "metadata": {
    "collapsed": true
   },
   "outputs": [],
   "source": [
    "def sphere_volume(n):\n",
    "    return 0.5**n * np.pi**(n/2.0) / scipy.special.gamma(n/2.0+1)"
   ]
  },
  {
   "cell_type": "code",
   "execution_count": null,
   "metadata": {
    "collapsed": false
   },
   "outputs": [],
   "source": [
    "x = np.arange(0,20)\n",
    "plt.plot(x, [sphere_volume(xi) for xi in x])\n",
    "plt.xlabel(\"Dimension\")\n",
    "plt.ylabel(\"Volume\")\n",
    "plt.figure()\n",
    "plt.semilogy(x, [sphere_volume(xi) for xi in x])\n",
    "plt.xlabel(\"Dimension\")\n",
    "plt.ylabel(\"Volume\")"
   ]
  },
  {
   "cell_type": "markdown",
   "metadata": {},
   "source": [
    "We can generate points randomly in a hypersphere. It's hard to visualise the hypersphere, but we can show the radii of points on a 2D circle:"
   ]
  },
  {
   "cell_type": "code",
   "execution_count": null,
   "metadata": {
    "collapsed": true
   },
   "outputs": [],
   "source": [
    "def sphere_points(n, d):\n",
    "    # generate points on the unit circle (uniformly)    \n",
    "    xn = np.random.normal(0,1,(n,2))\n",
    "    r = np.sqrt(np.sum(xn**2, axis=1))    \n",
    "    surface_points = (xn.T/r).T\n",
    "    \n",
    "    # generate points on the unit d-dimensional hypershphere (uniformly)    \n",
    "    xv = np.random.normal(0,1,(n,d))\n",
    "    r_d = np.sqrt(np.sum(xv**2, axis=1))    \n",
    "    d_surface_points = (xv.T/r_d).T\n",
    "    \n",
    "    # generate points on the unit line\n",
    "    xt = np.random.normal(0,1,(n,1))\n",
    "                \n",
    "    # radii of points uniformly distributed in a n-d hypersphere\n",
    "    # can be drawn by sampling using the formula below\n",
    "    # [see: http://math.stackexchange.com/questions/87230/picking-random-points-in-the-volume-of-sphere-with-uniform-probability?rq=1 ]\n",
    "    radius = np.random.uniform(0, 1, n) ** (1.0/d) * 0.5\n",
    "    return (surface_points.T*radius).T, radius, (d_surface_points.T*radius).T"
   ]
  },
  {
   "cell_type": "markdown",
   "metadata": {},
   "source": [
    "We can define a function to plot this. We'll show the 1D distribution of radii, the distribution of radii as if they were on a circle and the true 2D projection of the hypersphere points."
   ]
  },
  {
   "cell_type": "code",
   "execution_count": null,
   "metadata": {
    "collapsed": false
   },
   "outputs": [],
   "source": [
    "def plot_sphere_density(d):\n",
    "    sphere_pts, line_pts, hyp_pts = sphere_points(2000,d)\n",
    "    \n",
    "    # plot the 2D sphere at the corresponding radius\n",
    "    plt.scatter(sphere_pts[:,0], sphere_pts[:,1], alpha=0.5, s=2)    \n",
    "    # plot 1D points at the corresponding radius\n",
    "    plt.scatter(line_pts, np.zeros_like(line_pts), c='g', alpha=0.1, s=2)    \n",
    "    # plot the 2D projection of the hypersphere points\n",
    "    plt.scatter(-line_pts, np.zeros_like(line_pts), c='g', alpha=0.1, s=2)\n",
    "    if d>1:\n",
    "        plt.scatter(hyp_pts[:,0], hyp_pts[:,1], c='r', alpha=0.5, s=2)\n",
    "    plt.axis(\"equal\")"
   ]
  },
  {
   "cell_type": "code",
   "execution_count": null,
   "metadata": {
    "collapsed": false
   },
   "outputs": [],
   "source": [
    "plot_sphere_density(1)"
   ]
  },
  {
   "cell_type": "code",
   "execution_count": null,
   "metadata": {
    "collapsed": false
   },
   "outputs": [],
   "source": [
    "plot_sphere_density(2)"
   ]
  },
  {
   "cell_type": "code",
   "execution_count": null,
   "metadata": {
    "collapsed": false
   },
   "outputs": [],
   "source": [
    "plot_sphere_density(3)"
   ]
  },
  {
   "cell_type": "code",
   "execution_count": null,
   "metadata": {
    "collapsed": false
   },
   "outputs": [],
   "source": [
    "plot_sphere_density(8)"
   ]
  },
  {
   "cell_type": "code",
   "execution_count": null,
   "metadata": {
    "collapsed": false
   },
   "outputs": [],
   "source": [
    "plot_sphere_density(128)"
   ]
  },
  {
   "cell_type": "markdown",
   "metadata": {},
   "source": [
    "#### Conclusion\n",
    "If you look at any 2D slice of a hypersphere, the points will appear to be concentrated at the centre as the dimension increases. But almost all of the volume is actually in a very thin shell at the outside of the sphere. This is quite counter-intuitive."
   ]
  },
  {
   "cell_type": "markdown",
   "metadata": {},
   "source": [
    "### High-d spaces\n",
    "The curse of dimensionality means that in high-dimensional spaces, data becomes extremely sparse because the volume is huge. This puts pressure on the learning algorithm which has to some how \"fill in\" the gaps between the data; the volume which must be inferred grows exponentially with dimension. \n",
    "\n",
    "The non-intuitive geometrical properties of high-d spaces can lead to misunderstandings about the performance of learning algorithms.\n",
    "\n",
    "#### Dealing with high-d spaces\n",
    "One approach to mitigating high-d spaces in supervised learning problems is to apply *pre-training*, where unsupervised learning is used to infer a low-dimensional space, which is then classified. For many problems, the underlying space of variations is very limited and even if there is a huge vector of measurements, they all belong to a very small subspace. \n",
    "\n",
    "##### Pre-training\n",
    "For example, images of a rotating object might have thousands or millions of features but be characterised by a few variables. If manifold learning can extract this low-d latent space, then classification or regression becomes much simpler. Simple approaches like PCA can often find subspaces which contain much of the feature space needed for classifcation and ignore the irrelevant variables."
   ]
  },
  {
   "cell_type": "code",
   "execution_count": null,
   "metadata": {
    "collapsed": false
   },
   "outputs": [],
   "source": [
    "## Using PCA in the sonar mines example\n",
    "## We reduce the dimension to just 5 dimensions, then retrain\n",
    "\n",
    "# proceed as in Lecture 1...\n",
    "%cd datasets/uci\n",
    "sonar_data = pd.read_csv(\"sonar.all-data\")\n",
    "sonar_features = np.array(sonar_data)[:,0:60].astype(np.float64)\n",
    "sonar_labels = sklearn.preprocessing.label_binarize(np.array(sonar_data)[:,60], classes=['M', 'R']).ravel()\n",
    "\n",
    "# split into a train and test section, holding out 30% (0.3) of the data for testing\n",
    "sonar_train_features, sonar_test_features, sonar_train_labels, sonar_test_labels = sklearn.cross_validation.train_test_split(\n",
    "    sonar_features, sonar_labels, test_size=0.3, random_state=0)\n",
    "\n",
    "# fit an SVM as we did before\n",
    "svm = sklearn.svm.SVC(C=12, gamma=0.1)\n",
    "svm.fit(sonar_train_features, sonar_train_labels)\n",
    "print \"Score (original data): %f\" % svm.score(sonar_test_features, sonar_test_labels)\n",
    "\n",
    "## this is the new stuff...\n",
    "# now apply PCA\n",
    "n_components = 5\n",
    "pca = sklearn.decomposition.PCA(n_components, whiten=True)\n",
    "pca.fit(sonar_features)\n",
    "low_d_train_features, low_d_test_features = pca.transform(sonar_train_features), pca.transform(sonar_test_features)\n",
    "svm = sklearn.svm.SVC(C=12, gamma=0.1)\n",
    "svm.fit(low_d_train_features, sonar_train_labels)\n",
    "print \"Score (PCA): %f\" % svm.score(low_d_test_features, sonar_test_labels)\n",
    "\n",
    "# note that an SVM doesn't generally benefit much from dimensionality reduction \n"
   ]
  },
  {
   "cell_type": "markdown",
   "metadata": {},
   "source": [
    "## Kernel trick: a useful high-d space\n",
    "There is one very useful property of a high-dimensional space. If $d$ (the number of dimensions in a dataset) is at least $n-1$ for $n$ samples, and the $d$ are independent, then we can **always** draw a linear decision boundary which divides any portion of the samples from any other portion.\n",
    "\n",
    "In other words, we can *always* find a linear classifier that separates the data however we want.\n",
    "\n",
    "A simple way to acheive this is to replace the original feature space with distances from every point in the dataset. So if we have a $n \\times d$ matrix of features $X$, we can replace this with a new matrix $K$ of size $n \\times n$, where each row $X_i$ is the distance of sample $i$ to all the other samples in the original feature space. This rewriting of the samples as inter-distances is the *kernel* method.\n",
    "\n",
    "We can now always do two-class classification for any labeling of the points in this space. We could use plain Euclidean distance $K(x,x\\prime) = \\sqrt{\\sum_i(x_i-x_i')^2}$ or any other standard norm. \n",
    "\n",
    "But it's often useful to have the distance sensitive to nearby data points but be less affected by very distant points, so spatially varying kernels are often used, e.g.:\n",
    "\n",
    "$$K(x,x\\prime) = \\exp(\\frac{-\\sum_i(x_i-x_i^2)}{\\sigma^2}),$$ where $\\sigma$ specifies the width of this kernel.\n",
    "\n",
    "### Kernel trick\n",
    "The **kernel trick** involves the realisation that while creating this new matrix $K$ explicitly would be very expensive computationally, some learning algorithms can be devised that only compute these distances $k(x,x\\prime)$ as *they are needed*, i.e. $K$ doesn't need to be computed in full or stored.\n",
    "\n",
    "\n",
    "\n"
   ]
  },
  {
   "cell_type": "markdown",
   "metadata": {},
   "source": [
    "We can do any standard algorithm in a new kernel space -- it is just a transformation of the features. For example, we can do PCA in kernel space to get Kernel PCA. "
   ]
  },
  {
   "cell_type": "code",
   "execution_count": 659,
   "metadata": {
    "collapsed": false
   },
   "outputs": [
    {
     "name": "stdout",
     "output_type": "stream",
     "text": [
      "(150L, 150L)\n"
     ]
    }
   ],
   "source": [
    "## Kernel PCA\n",
    "## This is a deliberately inefficient way of doing this: we explicitly compute the matrix K and then apply PCA to it\n",
    "## There are efficient algorithms to do KPCA without constructing this matrix\n",
    "\n",
    "iris = sklearn.datasets.load_iris()\n",
    "\n",
    "def rbf(x,y, sigma):\n",
    "    # Gaussian distance function\n",
    "    return np.exp(-np.sum((x-y)**2) / (sigma**2))\n",
    "\n",
    "def l1_norm(x,y):\n",
    "    return (np.sum((x-y)))\n",
    "\n",
    "def kernel_matrix(x, fn):\n",
    "    return scipy.spatial.distance.squareform(scipy.spatial.distance.pdist(x, metric=fn))\n",
    "\n",
    "sigma = 5.0\n",
    "# the lambda is just used to fix the value of sigma for each function call that will happen\n",
    "# when computing the distance matrix\n",
    "k = kernel_matrix(iris.data, fn = lambda x,y: rbf(x,y,sigma))\n",
    "\n",
    "# you can try this instead -- even though it varies in the *inverse* direction (larger distances mean bigger numbers) we get\n",
    "# very sensible results\n",
    "#k = kernel_matrix(iris.data, fn = lambda x,y: l1_norm(x,y))\n",
    "\n",
    "print k.shape"
   ]
  },
  {
   "cell_type": "code",
   "execution_count": 660,
   "metadata": {
    "collapsed": false
   },
   "outputs": [
    {
     "data": {
      "text/plain": [
       "<matplotlib.collections.PathCollection at 0x1ed78cc0>"
      ]
     },
     "execution_count": 660,
     "metadata": {},
     "output_type": "execute_result"
    },
    {
     "data": {
      "image/png": "[encoded data removed]",
      "text/plain": [
       "<matplotlib.figure.Figure at 0x26def0b8>"
      ]
     },
     "metadata": {},
     "output_type": "display_data"
    }
   ],
   "source": [
    "kpca = sklearn.decomposition.PCA(n_components=2)\n",
    "kpca.fit(k)\n",
    "kpca_result = kpca.transform(k)\n",
    "plt.scatter(kpca_result[:,0], kpca_result[:,1], c=iris.target, cmap='jet', s=40)\n"
   ]
  },
  {
   "cell_type": "markdown",
   "metadata": {},
   "source": [
    "Note that this is obviously a *non-rigid* transformation of the original dataset. We can compare standard PCA on the original features."
   ]
  },
  {
   "cell_type": "code",
   "execution_count": 633,
   "metadata": {
    "collapsed": false
   },
   "outputs": [
    {
     "data": {
      "text/plain": [
       "<matplotlib.collections.PathCollection at 0x26d9dba8>"
      ]
     },
     "execution_count": 633,
     "metadata": {},
     "output_type": "execute_result"
    },
    {
     "data": {
      "image/png": "[encoded data removed]",
      "text/plain": [
       "<matplotlib.figure.Figure at 0x18d52ef0>"
      ]
     },
     "metadata": {},
     "output_type": "display_data"
    }
   ],
   "source": [
    "pca = sklearn.decomposition.PCA(n_components=2)\n",
    "pca.fit(iris.data)\n",
    "pca_result = pca.transform(iris.data)\n",
    "plt.scatter(pca_result[:,0], pca_result[:,1], c=iris.target, cmap='jet', s=40)"
   ]
  },
  {
   "cell_type": "markdown",
   "metadata": {},
   "source": [
    "### Non-real data: bag-of-words\n",
    "A huge advantage of kernel based methods is that they do **not** need real valued data and they can work with models where computing the feature . All they need is a well behaved distance function. For example, we can perform dimensional reduction on text documents by defining a metric between two documents $d_i$ and $d_j$. \n",
    "\n",
    "A very simple, but very effective metric is *bag of words* -- simply creating a binary vector of the words (1 if a word occurs, 0 if it doesn't) that occur in one document and taking the intersection with those that occur in the other. We don't need to store these or even compute the set of all words -- we can just compute the documents as needed. Other binary vector metrics such as the cosine distance can be used in the same way. \n",
    "\n",
    "We can also replace the binary values with the count of words in the document to weight words that occur often more heavily.\n",
    "\n",
    "\n",
    "\n"
   ]
  },
  {
   "cell_type": "markdown",
   "metadata": {},
   "source": [
    "## Dealing with time-series\n",
    "### Windowing\n",
    "### Delay embedding\n",
    "### Derivative information\n",
    "\n",
    "### Stateful algortihms\n",
    "#### Hidden markov model\n",
    "#### Kalman filter\n",
    "#### Particle filter"
   ]
  }
 ],
 "metadata": {
  "kernelspec": {
   "display_name": "Python 2",
   "language": "python",
   "name": "python2"
  },
  "language_info": {
   "codemirror_mode": {
    "name": "ipython",
    "version": 2
   },
   "file_extension": ".py",
   "mimetype": "text/x-python",
   "name": "python",
   "nbconvert_exporter": "python",
   "pygments_lexer": "ipython2",
   "version": "2.7.9"
  }
 },
 "nbformat": 4,
 "nbformat_minor": 0
}
