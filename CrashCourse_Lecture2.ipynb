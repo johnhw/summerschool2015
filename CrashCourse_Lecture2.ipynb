{
 "cells": [
  {
   "cell_type": "markdown",
   "metadata": {},
   "source": [
    "# Section II: Some fundamentals\n"
   ]
  },
  {
   "cell_type": "markdown",
   "metadata": {},
   "source": [
    "## Overfitting and regularisation\n",
    "### Overfitting \n",
    "### Penalisation\n",
    "#### Lasso / ridge regression\n",
    "### Randomised regularisation\n",
    "#### Bootstrap / bagging"
   ]
  },
  {
   "cell_type": "markdown",
   "metadata": {},
   "source": [
    "## Probabilistic approaches\n",
    "#### Random variables\n",
    "#### Distributions\n",
    "#### Advantages of probabilistic modelling\n",
    "#### Disadvantages of probabilistic modelling"
   ]
  },
  {
   "cell_type": "markdown",
   "metadata": {},
   "source": [
    "## Probability theory\n",
    "#### Probability as a calculus of belief\n",
    "#### Axioms of probability\n",
    "#### Bayes' Rule\n",
    "#### Prior, likelihood, posterior\n",
    "#### Integration over the evidence\n",
    "##### Monte Carlo approximations\n",
    "### Example: language modelling\n",
    "#### n-gram character models\n",
    "#### Bigram matrix\n",
    "#### Sampling from the model\n",
    "#### Evaluating likelihood"
   ]
  },
  {
   "cell_type": "markdown",
   "metadata": {},
   "source": [
    "## Information theory\n",
    "### Entropy\n",
    "#### Shannon's law\n",
    "#### Entropy examples\n",
    "#### Mutual information\n",
    "### Example: Fitts' law as an information theoretic model"
   ]
  },
  {
   "cell_type": "markdown",
   "metadata": {},
   "source": [
    "## High-dimensional spaces\n",
    "### What is a high-dimensional space?\n",
    "### Why intuition is wrong\n",
    "#### Example: cube-sphere volume\n",
    "#### Example: Normal distribution in high-dimensions\n",
    "### Dealing with high-D problems\n",
    "#### Pre-training\n",
    "#### Heavier tailed distributions\n"
   ]
  },
  {
   "cell_type": "markdown",
   "metadata": {},
   "source": [
    "## Kernel trick: a useful high-d space\n",
    "### Kernel basics\n",
    "### Linear decisions in kernel space\n",
    "### Kernel functions\n",
    "### Non-real data: bag-of-words\n"
   ]
  },
  {
   "cell_type": "markdown",
   "metadata": {},
   "source": [
    "## Dealing with time-series\n",
    "### Windowing\n",
    "### Delay embedding\n",
    "### Derivative information\n",
    "\n",
    "### Stateful algortihms\n",
    "#### Hidden markov model\n",
    "#### Kalman filter\n",
    "#### Particle filter"
   ]
  }
 ],
 "metadata": {
  "kernelspec": {
   "display_name": "Python 2",
   "language": "python",
   "name": "python2"
  },
  "language_info": {
   "codemirror_mode": {
    "name": "ipython",
    "version": 2
   },
   "file_extension": ".py",
   "mimetype": "text/x-python",
   "name": "python",
   "nbconvert_exporter": "python",
   "pygments_lexer": "ipython2",
   "version": "2.7.9"
  }
 },
 "nbformat": 4,
 "nbformat_minor": 0
}
