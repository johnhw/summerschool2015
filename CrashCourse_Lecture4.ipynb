{
 "cells": [
  {
   "cell_type": "markdown",
   "metadata": {},
   "source": [
    "# Unsupervised learning\n",
    "## Dimensional reduction\n",
    "### Principal component analysis\n",
    "#### PCA as an optimal rotation\n",
    "#### PCA example\n",
    "#### Self-organising map\n",
    "#### t-SNE, LLE, ISOMAP\n",
    "\n",
    "## Clustering\n",
    "### k-means\n",
    "#### k-means pitfalls\n",
    "#### k-means animated example\n",
    "### Hierarchical clustering\n",
    "### Hierarchical clustering pitfalls\n",
    "####  Hierarchical animated example"
   ]
  }
 ],
 "metadata": {
  "kernelspec": {
   "display_name": "Python 2",
   "language": "python",
   "name": "python2"
  },
  "language_info": {
   "codemirror_mode": {
    "name": "ipython",
    "version": 2
   },
   "file_extension": ".py",
   "mimetype": "text/x-python",
   "name": "python",
   "nbconvert_exporter": "python",
   "pygments_lexer": "ipython2",
   "version": "2.7.9"
  }
 },
 "nbformat": 4,
 "nbformat_minor": 0
}
