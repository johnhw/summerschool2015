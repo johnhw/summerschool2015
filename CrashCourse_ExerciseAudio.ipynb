{
 "cells": [
  {
   "cell_type": "markdown",
   "metadata": {},
   "source": [
    "# Exercise: Learning to recognise touch sounds\n",
    "\n",
    "## A data processing pipeline\n",
    "\n",
    "## Step 1: Loading the data\n",
    "## Step 2: Pre-processing\n",
    "## Step 3: Feature extraction\n",
    "## Step 4: Building a classifier\n",
    "## Step 6: Evaluating performance\n",
    "## Step 7: A better classifier\n",
    "## Step 8: Better evaluation methods\n",
    "## Step 9: Experiment"
   ]
  }
 ],
 "metadata": {
  "kernelspec": {
   "display_name": "Python 2",
   "language": "python",
   "name": "python2"
  },
  "language_info": {
   "codemirror_mode": {
    "name": "ipython",
    "version": 2
   },
   "file_extension": ".py",
   "mimetype": "text/x-python",
   "name": "python",
   "nbconvert_exporter": "python",
   "pygments_lexer": "ipython2",
   "version": "2.7.9"
  }
 },
 "nbformat": 4,
 "nbformat_minor": 0
}
